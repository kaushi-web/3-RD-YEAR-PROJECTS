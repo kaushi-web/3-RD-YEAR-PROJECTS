{
 "cells": [
  {
   "cell_type": "code",
   "execution_count": 1,
   "metadata": {},
   "outputs": [
    {
     "name": "stderr",
     "output_type": "stream",
     "text": [
      "[nltk_data] Downloading package stopwords to\n",
      "[nltk_data]     C:\\Users\\user\\AppData\\Roaming\\nltk_data...\n",
      "[nltk_data]   Package stopwords is already up-to-date!\n"
     ]
    },
    {
     "data": {
      "text/plain": [
       "True"
      ]
     },
     "execution_count": 1,
     "metadata": {},
     "output_type": "execute_result"
    }
   ],
   "source": [
    "import nltk\n",
    "import pandas as pd\n",
    "import numpy as np\n",
    "from nltk.corpus import stopwords\n",
    "from nltk.tokenize import word_tokenize\n",
    "from nltk.stem import WordNetLemmatizer\n",
    "from nltk.stem.porter import *\n",
    "from sklearn.feature_extraction.text import CountVectorizer\n",
    "from sklearn.feature_extraction.text import TfidfVectorizer\n",
    "from sklearn.feature_extraction.text import TfidfTransformer\n",
    "from sklearn.model_selection import train_test_split\n",
    "from sklearn.naive_bayes import GaussianNB\n",
    "from sklearn import metrics\n",
    "from sklearn.naive_bayes import MultinomialNB\n",
    "from sklearn.svm import *\n",
    "from sklearn.metrics import accuracy_score \n",
    "from sklearn.metrics import confusion_matrix \n",
    "from sklearn.metrics import classification_report\n",
    "\n",
    "nltk.download('stopwords')"
   ]
  },
  {
   "cell_type": "code",
   "execution_count": 2,
   "metadata": {},
   "outputs": [
    {
     "name": "stdout",
     "output_type": "stream",
     "text": [
      "<class 'list'>\n"
     ]
    }
   ],
   "source": [
    "#assign column names to dataset\n",
    "names = ['sentiment', 'id', 'date', 'flag', 'user', 'text']\n",
    "print(type(names))"
   ]
  },
  {
   "cell_type": "code",
   "execution_count": 3,
   "metadata": {},
   "outputs": [
    {
     "data": {
      "text/html": [
       "<div>\n",
       "<style scoped>\n",
       "    .dataframe tbody tr th:only-of-type {\n",
       "        vertical-align: middle;\n",
       "    }\n",
       "\n",
       "    .dataframe tbody tr th {\n",
       "        vertical-align: top;\n",
       "    }\n",
       "\n",
       "    .dataframe thead th {\n",
       "        text-align: right;\n",
       "    }\n",
       "</style>\n",
       "<table border=\"1\" class=\"dataframe\">\n",
       "  <thead>\n",
       "    <tr style=\"text-align: right;\">\n",
       "      <th></th>\n",
       "      <th>sentiment</th>\n",
       "      <th>id</th>\n",
       "      <th>date</th>\n",
       "      <th>flag</th>\n",
       "      <th>user</th>\n",
       "      <th>text</th>\n",
       "    </tr>\n",
       "  </thead>\n",
       "  <tbody>\n",
       "    <tr>\n",
       "      <th>0</th>\n",
       "      <td>0</td>\n",
       "      <td>1468487862</td>\n",
       "      <td>Tue Apr 07 01:58:48 PDT 2009</td>\n",
       "      <td>NO_QUERY</td>\n",
       "      <td>joannladybird</td>\n",
       "      <td>I don't want to be a grown up yet...</td>\n",
       "    </tr>\n",
       "    <tr>\n",
       "      <th>1</th>\n",
       "      <td>0</td>\n",
       "      <td>1468487909</td>\n",
       "      <td>Tue Apr 07 01:58:50 PDT 2009</td>\n",
       "      <td>NO_QUERY</td>\n",
       "      <td>sambatia</td>\n",
       "      <td>as usual ... cooking what I hate</td>\n",
       "    </tr>\n",
       "    <tr>\n",
       "      <th>2</th>\n",
       "      <td>0</td>\n",
       "      <td>1468488036</td>\n",
       "      <td>Tue Apr 07 01:58:53 PDT 2009</td>\n",
       "      <td>NO_QUERY</td>\n",
       "      <td>sophiehe</td>\n",
       "      <td>incredibly, immensely indecisive</td>\n",
       "    </tr>\n",
       "    <tr>\n",
       "      <th>3</th>\n",
       "      <td>0</td>\n",
       "      <td>1468488056</td>\n",
       "      <td>Tue Apr 07 01:58:54 PDT 2009</td>\n",
       "      <td>NO_QUERY</td>\n",
       "      <td>katiecometrue</td>\n",
       "      <td>so my wish didn't come true  go to hell caroli...</td>\n",
       "    </tr>\n",
       "    <tr>\n",
       "      <th>4</th>\n",
       "      <td>0</td>\n",
       "      <td>1468488504</td>\n",
       "      <td>Tue Apr 07 01:59:04 PDT 2009</td>\n",
       "      <td>NO_QUERY</td>\n",
       "      <td>TheMightyFoz</td>\n",
       "      <td>yay! 2am and not a bit tired.</td>\n",
       "    </tr>\n",
       "  </tbody>\n",
       "</table>\n",
       "</div>"
      ],
      "text/plain": [
       "  sentiment          id                          date      flag  \\\n",
       "0         0  1468487862  Tue Apr 07 01:58:48 PDT 2009  NO_QUERY   \n",
       "1         0  1468487909  Tue Apr 07 01:58:50 PDT 2009  NO_QUERY   \n",
       "2         0  1468488036  Tue Apr 07 01:58:53 PDT 2009  NO_QUERY   \n",
       "3         0  1468488056  Tue Apr 07 01:58:54 PDT 2009  NO_QUERY   \n",
       "4         0  1468488504  Tue Apr 07 01:59:04 PDT 2009  NO_QUERY   \n",
       "\n",
       "            user                                               text  \n",
       "0  joannladybird              I don't want to be a grown up yet...   \n",
       "1       sambatia                  as usual ... cooking what I hate   \n",
       "2       sophiehe                  incredibly, immensely indecisive   \n",
       "3  katiecometrue  so my wish didn't come true  go to hell caroli...  \n",
       "4   TheMightyFoz                     yay! 2am and not a bit tired.   "
      ]
     },
     "execution_count": 3,
     "metadata": {},
     "output_type": "execute_result"
    }
   ],
   "source": [
    "#access dataset \n",
    "\n",
    "#twitter_df = pd.read_csv(r\"C:/Users/user/Documents/IRWA_Assignment3/twitter.csv\", encoding = \"latin-1\")\n",
    "twitter_df = pd.read_csv(r\"C:/Users/user/Documents/IRWA_Assignment3/twitter_edit_1.csv\", encoding = \"latin-1\")\n",
    "twitter_df = pd.DataFrame(twitter_df.values, columns = names )\n",
    "twitter_df.head()"
   ]
  },
  {
   "cell_type": "code",
   "execution_count": 4,
   "metadata": {},
   "outputs": [
    {
     "data": {
      "text/plain": [
       "sentiment    False\n",
       "id           False\n",
       "date         False\n",
       "flag         False\n",
       "user         False\n",
       "text         False\n",
       "dtype: bool"
      ]
     },
     "execution_count": 4,
     "metadata": {},
     "output_type": "execute_result"
    }
   ],
   "source": [
    "#check the null values count in the twitter_df, now you can see that\n",
    "twitter_df.isnull().any()"
   ]
  },
  {
   "cell_type": "code",
   "execution_count": 5,
   "metadata": {},
   "outputs": [
    {
     "data": {
      "text/html": [
       "<div>\n",
       "<style scoped>\n",
       "    .dataframe tbody tr th:only-of-type {\n",
       "        vertical-align: middle;\n",
       "    }\n",
       "\n",
       "    .dataframe tbody tr th {\n",
       "        vertical-align: top;\n",
       "    }\n",
       "\n",
       "    .dataframe thead th {\n",
       "        text-align: right;\n",
       "    }\n",
       "</style>\n",
       "<table border=\"1\" class=\"dataframe\">\n",
       "  <thead>\n",
       "    <tr style=\"text-align: right;\">\n",
       "      <th></th>\n",
       "      <th>sentiment</th>\n",
       "      <th>text</th>\n",
       "    </tr>\n",
       "  </thead>\n",
       "  <tbody>\n",
       "    <tr>\n",
       "      <th>0</th>\n",
       "      <td>0</td>\n",
       "      <td>I don't want to be a grown up yet...</td>\n",
       "    </tr>\n",
       "    <tr>\n",
       "      <th>1</th>\n",
       "      <td>0</td>\n",
       "      <td>as usual ... cooking what I hate</td>\n",
       "    </tr>\n",
       "    <tr>\n",
       "      <th>2</th>\n",
       "      <td>0</td>\n",
       "      <td>incredibly, immensely indecisive</td>\n",
       "    </tr>\n",
       "    <tr>\n",
       "      <th>3</th>\n",
       "      <td>0</td>\n",
       "      <td>so my wish didn't come true  go to hell caroli...</td>\n",
       "    </tr>\n",
       "    <tr>\n",
       "      <th>4</th>\n",
       "      <td>0</td>\n",
       "      <td>yay! 2am and not a bit tired.</td>\n",
       "    </tr>\n",
       "  </tbody>\n",
       "</table>\n",
       "</div>"
      ],
      "text/plain": [
       "  sentiment                                               text\n",
       "0         0              I don't want to be a grown up yet... \n",
       "1         0                  as usual ... cooking what I hate \n",
       "2         0                  incredibly, immensely indecisive \n",
       "3         0  so my wish didn't come true  go to hell caroli...\n",
       "4         0                     yay! 2am and not a bit tired. "
      ]
     },
     "execution_count": 5,
     "metadata": {},
     "output_type": "execute_result"
    }
   ],
   "source": [
    "#drop the flag column\n",
    "#twitter_df.drop(['flag'], axis=1, inplace=True)\n",
    "#twitter_df.head()\n",
    "\n",
    "#drop some columns\n",
    "twitter_df = twitter_df.drop(['id', 'date', 'flag', 'user'], axis = 1)\n",
    "twitter_df.head()"
   ]
  },
  {
   "cell_type": "code",
   "execution_count": 6,
   "metadata": {},
   "outputs": [
    {
     "data": {
      "text/plain": [
       "array([0, 4], dtype=object)"
      ]
     },
     "execution_count": 6,
     "metadata": {},
     "output_type": "execute_result"
    }
   ],
   "source": [
    "#observe the content of the sentiment column\n",
    "pd.unique(twitter_df['sentiment'].values) "
   ]
  },
  {
   "cell_type": "code",
   "execution_count": 7,
   "metadata": {},
   "outputs": [
    {
     "data": {
      "text/plain": [
       "0                I don't want to be a grown up yet... \n",
       "1                    as usual ... cooking what I hate \n",
       "2                    incredibly, immensely indecisive \n",
       "3    so my wish didn't come true  go to hell caroli...\n",
       "4                       yay! 2am and not a bit tired. \n",
       "Name: text, dtype: object"
      ]
     },
     "execution_count": 7,
     "metadata": {},
     "output_type": "execute_result"
    }
   ],
   "source": [
    "#Extract the tweet from the dataset to process further\n",
    "tweetText = twitter_df['text']\n",
    "\n",
    "tweetText.head()"
   ]
  },
  {
   "cell_type": "code",
   "execution_count": 8,
   "metadata": {},
   "outputs": [
    {
     "data": {
      "text/plain": [
       "0                    i don want to be grown up yet \n",
       "1                     as usual cooking what i hate \n",
       "2                  incredibly immensely indecisive \n",
       "3    so my wish didn come true go to hell carolina \n",
       "4                         yay am and not bit tired \n",
       "Name: text, dtype: object"
      ]
     },
     "execution_count": 8,
     "metadata": {},
     "output_type": "execute_result"
    }
   ],
   "source": [
    "\n",
    "\n",
    "\n",
    "#remove links and website addresses \n",
    "tweetText = tweetText.str.replace(r'http\\S+', ' ', regex=True).replace(r'www\\S+', ' ', regex=True)\n",
    "\n",
    "#remove all usernames\n",
    "tweetText = tweetText.str.replace(r'@[^\\s]+',' ')\n",
    "\n",
    "#remove html tags\n",
    "tweetText =tweetText.str.replace(r'<[^>]+>',' ')\n",
    "\n",
    "#remove special characters\n",
    "spec_chars = [\"!\",'\"',\"#\",\"%\",\"&\",\"'\",\"(\",\")\",\n",
    "               \"*\",\"+\",\",\",\"-\",\".\",\"/\",\":\",\";\",\"<\",\n",
    "               \"=\",\">\",\"?\",\"@\",\"[\",\"\\\\\",\"]\",\"^\",\"_\",\n",
    "               \"`\",\"{\",\"|\",\"}\",\"~\",\"–\"]\n",
    "    \n",
    "for char in spec_chars:\n",
    "     tweetText = tweetText.str.replace(char, ' ')\n",
    "        \n",
    "#remove all numbers\n",
    "tweetText = tweetText.str.replace(r'[0-9]',' ')\n",
    "\n",
    "#remove single characters in the tweet\n",
    "tweetText = tweetText.str.replace(r'[ ][a-z][ ]',' ')\n",
    "        \n",
    "#remove multiple spaces\n",
    "tweetText = tweetText.str.replace(r'[ ]{2,}', ' ')\n",
    "\n",
    "#turn the all the letters in the tweet in to lowercase\n",
    "tweetText = tweetText.str.lower()\n",
    "\n",
    "\n",
    "tweetText.head()\n",
    "\n"
   ]
  },
  {
   "cell_type": "code",
   "execution_count": 9,
   "metadata": {},
   "outputs": [
    {
     "data": {
      "text/plain": [
       "0               [i, don, want, to, be, grown, up, yet]\n",
       "1                  [as, usual, cooking, what, i, hate]\n",
       "2                  [incredibly, immensely, indecisive]\n",
       "3    [so, my, wish, didn, come, true, go, to, hell,...\n",
       "4                      [yay, am, and, not, bit, tired]\n",
       "Name: text, dtype: object"
      ]
     },
     "execution_count": 9,
     "metadata": {},
     "output_type": "execute_result"
    }
   ],
   "source": [
    "#tokenize the words\n",
    "\n",
    "\n",
    "tweetText = tweetText.apply(word_tokenize)\n",
    "tweetText.head()"
   ]
  },
  {
   "cell_type": "code",
   "execution_count": 10,
   "metadata": {},
   "outputs": [
    {
     "data": {
      "text/plain": [
       "0                        [want, grown, yet]\n",
       "1                    [usual, cooking, hate]\n",
       "2       [incredibly, immensely, indecisive]\n",
       "3    [wish, come, true, go, hell, carolina]\n",
       "4                         [yay, bit, tired]\n",
       "Name: text, dtype: object"
      ]
     },
     "execution_count": 10,
     "metadata": {},
     "output_type": "execute_result"
    }
   ],
   "source": [
    "\n",
    "#remove stop words from the tweet\n",
    "\n",
    "stop_words = set(stopwords.words('english'))\n",
    "#tweetText = tweetText.apply([word for word in tweetText if not word in stopwords.words()])\n",
    "#tweetText.head()\n",
    "#lemmatize the words\n",
    "#tweetText = tweetText.apply([])\n",
    "\n",
    "tweetText = tweetText.apply(lambda x:[word for word in x if word not in stop_words])\n",
    "tweetText.head()"
   ]
  },
  {
   "cell_type": "code",
   "execution_count": 11,
   "metadata": {},
   "outputs": [
    {
     "data": {
      "text/plain": [
       "0                        [want, grown, yet]\n",
       "1                    [usual, cooking, hate]\n",
       "2       [incredibly, immensely, indecisive]\n",
       "3    [wish, come, true, go, hell, carolina]\n",
       "4                         [yay, bit, tired]\n",
       "Name: text, dtype: object"
      ]
     },
     "execution_count": 11,
     "metadata": {},
     "output_type": "execute_result"
    }
   ],
   "source": [
    " \n",
    "\n",
    "lemmatizer= WordNetLemmatizer()\n",
    "tweetText = tweetText.apply(lambda x:[lemmatizer.lemmatize(word) for word in x])\n",
    "tweetText.head()\n",
    "\n"
   ]
  },
  {
   "cell_type": "code",
   "execution_count": 12,
   "metadata": {},
   "outputs": [
    {
     "data": {
      "text/plain": [
       "0                        [want, grown, yet]\n",
       "1                       [usual, cook, hate]\n",
       "2                 [incred, immens, indecis]\n",
       "3    [wish, come, true, go, hell, carolina]\n",
       "4                          [yay, bit, tire]\n",
       "Name: text, dtype: object"
      ]
     },
     "execution_count": 12,
     "metadata": {},
     "output_type": "execute_result"
    }
   ],
   "source": [
    "\n",
    "\n",
    "#stemming the words\n",
    "stemmer=PorterStemmer()\n",
    "tweetText = tweetText.apply(lambda x:[stemmer.stem(word) for word in x])\n",
    "\n",
    "tweetText.head()"
   ]
  },
  {
   "cell_type": "code",
   "execution_count": 13,
   "metadata": {},
   "outputs": [
    {
     "data": {
      "text/plain": [
       "0                     want grown yet\n",
       "1                    usual cook hate\n",
       "2              incred immens indecis\n",
       "3    wish come true go hell carolina\n",
       "4                       yay bit tire\n",
       "Name: text, dtype: object"
      ]
     },
     "execution_count": 13,
     "metadata": {},
     "output_type": "execute_result"
    }
   ],
   "source": [
    "#Remove lists\n",
    "tweet = tweetText.str.join(' ')\n",
    "tweet.head()"
   ]
  },
  {
   "cell_type": "code",
   "execution_count": 14,
   "metadata": {},
   "outputs": [],
   "source": [
    "# Initialize empty array \n",
    "# to append clean text  \n",
    "#tweet_corpus = []  \n",
    "  \n",
    "#for text in tweet:  \n",
    "     # append each string to create array of clean text  \n",
    "#    tweet_corpus.append(text) "
   ]
  },
  {
   "cell_type": "code",
   "execution_count": 15,
   "metadata": {},
   "outputs": [
    {
     "name": "stdout",
     "output_type": "stream",
     "text": [
      "  (0, 3102)\t1\n",
      "  (0, 1217)\t1\n",
      "  (0, 3247)\t1\n",
      "  (1, 3041)\t1\n",
      "  (1, 633)\t1\n",
      "  (1, 1277)\t1\n",
      "  (2, 1443)\t1\n",
      "  (2, 1432)\t1\n",
      "  (2, 1445)\t1\n",
      "  (3, 3165)\t1\n",
      "  (3, 595)\t1\n",
      "  (3, 2961)\t1\n",
      "  (3, 1163)\t1\n",
      "  (3, 1309)\t1\n",
      "  (3, 474)\t1\n",
      "  (4, 3231)\t1\n",
      "  (4, 304)\t1\n",
      "  (4, 2898)\t1\n",
      " \n",
      "want\n"
     ]
    }
   ],
   "source": [
    "\n",
    "\n",
    "#create the object\n",
    "countvec = CountVectorizer()\n",
    "\n",
    "#tweetVector = countvec.fit_transform(word for word in tweet)\n",
    "tweetVector = countvec.fit_transform(word for word in tweet)\n",
    "\n",
    "#print the first 5 rows including the 5th index\n",
    "print(tweetVector[0:5,:])\n",
    "\n",
    "print(\" \")\n",
    "\n",
    "#to get a relevant word\n",
    "print(countvec.get_feature_names()[3102])\n",
    "\n"
   ]
  },
  {
   "cell_type": "code",
   "execution_count": 16,
   "metadata": {},
   "outputs": [
    {
     "name": "stdout",
     "output_type": "stream",
     "text": [
      "  (0, 3247)\t0.5534387945242979\n",
      "  (0, 3102)\t0.43348708372026706\n",
      "  (0, 1217)\t0.7111922728511538\n",
      "  (1, 3041)\t0.6382620386584756\n",
      "  (1, 1277)\t0.5092736802526749\n",
      "  (1, 633)\t0.5772883929280259\n",
      "  (2, 1445)\t0.5875290351720356\n",
      "  (2, 1443)\t0.5564344217063087\n",
      "  (2, 1432)\t0.5875290351720356\n",
      "  (3, 3165)\t0.3538908713934089\n",
      "  (3, 2961)\t0.44833079178894164\n",
      "  (3, 1309)\t0.4718701519948293\n",
      "  (3, 1163)\t0.24612242351088842\n",
      "  (3, 595)\t0.3213343868792073\n",
      "  (3, 474)\t0.5359732049167961\n",
      "  (4, 3231)\t0.5703547363066376\n",
      "  (4, 2898)\t0.5294735827620132\n",
      "  (4, 304)\t0.6279754771722724\n",
      "  (5, 2861)\t0.21207519995361998\n",
      "  (5, 2375)\t0.34552604960264\n",
      "  (5, 2259)\t0.37989718492267777\n",
      "  (5, 2251)\t0.3344610154899445\n",
      "  (5, 2157)\t0.5820981780263352\n",
      "  (5, 1974)\t0.2408867673586433\n",
      "  (5, 1958)\t0.23796903957252846\n",
      "  :\t:\n",
      "  (1557, 1690)\t0.2877003669562403\n",
      "  (1557, 1427)\t0.38058778696267753\n",
      "  (1557, 1173)\t0.40909454380333765\n",
      "  (1557, 1112)\t0.46466959783176154\n",
      "  (1557, 1023)\t0.3886867604668838\n",
      "  (1558, 1987)\t0.7071067811865475\n",
      "  (1558, 1186)\t0.7071067811865475\n",
      "  (1559, 2554)\t0.4414248052304328\n",
      "  (1559, 2114)\t0.4281260246343227\n",
      "  (1559, 1883)\t0.38391366047467335\n",
      "  (1559, 1611)\t0.40272006393125465\n",
      "  (1559, 379)\t0.5588193802707895\n",
      "  (1560, 3196)\t0.3404134984351104\n",
      "  (1560, 3132)\t0.15155557724174412\n",
      "  (1560, 3119)\t0.18030451930204694\n",
      "  (1560, 2541)\t0.21113541417596338\n",
      "  (1560, 2239)\t0.2004202413986069\n",
      "  (1560, 2125)\t0.21113541417596338\n",
      "  (1560, 1340)\t0.257780757433523\n",
      "  (1560, 1276)\t0.7324136073421609\n",
      "  (1560, 1096)\t0.20362719093082676\n",
      "  (1560, 920)\t0.2344580858047432\n",
      "  (1561, 3091)\t0.46050384310576115\n",
      "  (1561, 2691)\t0.5876192990155579\n",
      "  (1561, 962)\t0.6653117839849892\n",
      " \n",
      "4.422536697697151\n"
     ]
    }
   ],
   "source": [
    "\n",
    "\n",
    "#create the object\n",
    "tfidf_transformer = TfidfTransformer()\n",
    "\n",
    "#input the vectorized tweets and convert into tf-idf weights\n",
    "tfidf = tfidf_transformer.fit_transform(tweetVector)\n",
    "\n",
    "#print the tf-idf values \n",
    "print(tfidf)\n",
    "\n",
    "print(\" \")\n",
    "\n",
    "#get tf-idf values for a word\n",
    "print(tfidf_transformer.idf_[countvec.vocabulary_['want']])\n"
   ]
  },
  {
   "cell_type": "code",
   "execution_count": 17,
   "metadata": {},
   "outputs": [],
   "source": [
    "#names = tfidf.get_feature_names()\n",
    "#print(names)"
   ]
  },
  {
   "cell_type": "code",
   "execution_count": 18,
   "metadata": {},
   "outputs": [
    {
     "name": "stdout",
     "output_type": "stream",
     "text": [
      "  (0, 3247)\t0.5534387945242979\n",
      "  (0, 3102)\t0.43348708372026706\n",
      "  (0, 1217)\t0.7111922728511538\n",
      "  (1, 3041)\t0.6382620386584756\n",
      "  (1, 1277)\t0.5092736802526749\n",
      "  (1, 633)\t0.5772883929280259\n",
      "  (2, 1445)\t0.5875290351720356\n",
      "  (2, 1443)\t0.5564344217063087\n",
      "  (2, 1432)\t0.5875290351720356\n",
      "  (3, 3165)\t0.3538908713934089\n",
      "  (3, 2961)\t0.44833079178894164\n",
      "  (3, 1309)\t0.4718701519948293\n",
      "  (3, 1163)\t0.24612242351088842\n",
      "  (3, 595)\t0.3213343868792073\n",
      "  (3, 474)\t0.5359732049167961\n",
      "  (4, 3231)\t0.5703547363066376\n",
      "  (4, 2898)\t0.5294735827620132\n",
      "  (4, 304)\t0.6279754771722724\n",
      "  (5, 2861)\t0.21207519995361998\n",
      "  (5, 2375)\t0.34552604960264\n",
      "  (5, 2259)\t0.37989718492267777\n",
      "  (5, 2251)\t0.3344610154899445\n",
      "  (5, 2157)\t0.5820981780263352\n",
      "  (5, 1974)\t0.2408867673586433\n",
      "  (5, 1958)\t0.23796903957252846\n",
      "  :\t:\n",
      "  (1557, 1690)\t0.2877003669562403\n",
      "  (1557, 1427)\t0.38058778696267753\n",
      "  (1557, 1173)\t0.40909454380333765\n",
      "  (1557, 1112)\t0.46466959783176154\n",
      "  (1557, 1023)\t0.3886867604668838\n",
      "  (1558, 1987)\t0.7071067811865475\n",
      "  (1558, 1186)\t0.7071067811865475\n",
      "  (1559, 2554)\t0.4414248052304328\n",
      "  (1559, 2114)\t0.4281260246343227\n",
      "  (1559, 1883)\t0.38391366047467335\n",
      "  (1559, 1611)\t0.40272006393125465\n",
      "  (1559, 379)\t0.5588193802707895\n",
      "  (1560, 3196)\t0.3404134984351104\n",
      "  (1560, 3132)\t0.15155557724174412\n",
      "  (1560, 3119)\t0.18030451930204694\n",
      "  (1560, 2541)\t0.21113541417596338\n",
      "  (1560, 2239)\t0.2004202413986069\n",
      "  (1560, 2125)\t0.21113541417596338\n",
      "  (1560, 1340)\t0.257780757433523\n",
      "  (1560, 1276)\t0.7324136073421609\n",
      "  (1560, 1096)\t0.20362719093082676\n",
      "  (1560, 920)\t0.2344580858047432\n",
      "  (1561, 3091)\t0.46050384310576115\n",
      "  (1561, 2691)\t0.5876192990155579\n",
      "  (1561, 962)\t0.6653117839849892\n"
     ]
    }
   ],
   "source": [
    "x=tfidf\n",
    "print(x)"
   ]
  },
  {
   "cell_type": "code",
   "execution_count": 19,
   "metadata": {},
   "outputs": [],
   "source": [
    "#twitter_df['sentiment'] =twitter_df['sentiment'].replace({0:\"Negative\"})\n",
    "#twitter_df['sentiment'] =twitter_df['sentiment'].replace({4:\"Positive\"})\n",
    "\n",
    "#y = twitter_df.iloc[:, 0].values "
   ]
  },
  {
   "cell_type": "code",
   "execution_count": 20,
   "metadata": {},
   "outputs": [],
   "source": [
    "#dealing with catergorical data\n",
    "def getText(number):\n",
    "    if number==0:\n",
    "        return \"Negative\"\n",
    "    else:\n",
    "        return \"Positive\"\n",
    "twitter_df[\"sentiment\"]=twitter_df[\"sentiment\"].apply(getText)"
   ]
  },
  {
   "cell_type": "code",
   "execution_count": 21,
   "metadata": {},
   "outputs": [
    {
     "data": {
      "text/plain": [
       "array(['Negative', 'Positive'], dtype=object)"
      ]
     },
     "execution_count": 21,
     "metadata": {},
     "output_type": "execute_result"
    }
   ],
   "source": [
    "pd.unique(twitter_df['sentiment'].values)"
   ]
  },
  {
   "cell_type": "code",
   "execution_count": 22,
   "metadata": {},
   "outputs": [
    {
     "name": "stdout",
     "output_type": "stream",
     "text": [
      "['Negative' 'Negative' 'Negative' ... 'Positive' 'Positive' 'Positive']\n"
     ]
    }
   ],
   "source": [
    "\n",
    "y = twitter_df.iloc[:, 0].values\n",
    "\n",
    "print(y)"
   ]
  },
  {
   "cell_type": "code",
   "execution_count": 23,
   "metadata": {},
   "outputs": [
    {
     "name": "stdout",
     "output_type": "stream",
     "text": [
      "['Positive' 'Positive' 'Positive' 'Positive' 'Negative' 'Positive'\n",
      " 'Positive' 'Positive' 'Positive' 'Positive' 'Positive' 'Positive'\n",
      " 'Negative' 'Positive' 'Positive' 'Negative' 'Negative' 'Positive'\n",
      " 'Negative' 'Positive' 'Negative' 'Negative' 'Positive' 'Negative'\n",
      " 'Positive' 'Positive' 'Positive' 'Positive' 'Positive' 'Positive'\n",
      " 'Negative' 'Negative' 'Positive' 'Positive' 'Negative' 'Negative'\n",
      " 'Negative' 'Negative' 'Positive' 'Positive' 'Positive' 'Positive'\n",
      " 'Positive' 'Positive' 'Negative' 'Negative' 'Positive' 'Positive'\n",
      " 'Negative' 'Positive' 'Positive' 'Negative' 'Positive' 'Positive'\n",
      " 'Positive' 'Negative' 'Negative' 'Negative' 'Positive' 'Negative'\n",
      " 'Positive' 'Negative' 'Positive' 'Negative' 'Negative' 'Positive'\n",
      " 'Positive' 'Positive' 'Positive' 'Positive' 'Positive' 'Positive'\n",
      " 'Negative' 'Positive' 'Positive' 'Positive' 'Positive' 'Positive'\n",
      " 'Positive' 'Positive' 'Negative' 'Positive' 'Negative' 'Positive'\n",
      " 'Positive' 'Negative' 'Negative' 'Positive' 'Negative' 'Negative'\n",
      " 'Positive' 'Positive' 'Positive' 'Positive' 'Positive' 'Positive'\n",
      " 'Negative' 'Positive' 'Positive' 'Negative' 'Positive' 'Positive'\n",
      " 'Negative' 'Negative' 'Positive' 'Positive' 'Negative' 'Positive'\n",
      " 'Negative' 'Positive' 'Negative' 'Positive' 'Negative' 'Positive'\n",
      " 'Negative' 'Negative' 'Positive' 'Positive' 'Positive' 'Negative'\n",
      " 'Negative' 'Negative' 'Positive' 'Positive' 'Positive' 'Positive'\n",
      " 'Positive' 'Positive' 'Positive' 'Negative' 'Positive' 'Positive'\n",
      " 'Positive' 'Positive' 'Positive' 'Positive' 'Positive' 'Negative'\n",
      " 'Negative' 'Positive' 'Negative' 'Negative' 'Positive' 'Positive'\n",
      " 'Negative' 'Positive' 'Negative' 'Positive' 'Positive' 'Positive'\n",
      " 'Negative' 'Positive' 'Negative' 'Positive' 'Negative' 'Negative'\n",
      " 'Negative' 'Negative' 'Positive' 'Negative' 'Negative' 'Positive'\n",
      " 'Positive' 'Negative' 'Negative' 'Positive' 'Positive' 'Positive'\n",
      " 'Negative' 'Negative' 'Positive' 'Positive' 'Positive' 'Positive'\n",
      " 'Negative' 'Negative' 'Negative' 'Positive' 'Negative' 'Positive'\n",
      " 'Positive' 'Positive' 'Negative' 'Positive' 'Positive' 'Positive'\n",
      " 'Positive' 'Negative' 'Positive' 'Positive' 'Negative' 'Positive'\n",
      " 'Positive' 'Positive' 'Positive' 'Positive' 'Negative' 'Positive'\n",
      " 'Positive' 'Positive' 'Positive' 'Positive' 'Positive' 'Positive'\n",
      " 'Negative' 'Positive' 'Positive' 'Positive' 'Negative' 'Positive'\n",
      " 'Positive' 'Negative' 'Negative' 'Positive' 'Positive' 'Positive'\n",
      " 'Negative' 'Positive' 'Positive' 'Positive' 'Positive' 'Positive'\n",
      " 'Positive' 'Positive' 'Negative' 'Positive' 'Negative' 'Positive'\n",
      " 'Positive' 'Negative' 'Negative' 'Negative' 'Positive' 'Positive'\n",
      " 'Positive' 'Negative' 'Positive' 'Positive' 'Negative' 'Positive'\n",
      " 'Positive' 'Positive' 'Positive' 'Positive' 'Negative' 'Negative'\n",
      " 'Negative' 'Positive' 'Positive' 'Negative' 'Negative' 'Positive'\n",
      " 'Negative' 'Negative' 'Positive' 'Negative' 'Negative' 'Negative'\n",
      " 'Positive' 'Positive' 'Positive' 'Positive' 'Positive' 'Positive'\n",
      " 'Positive' 'Negative' 'Positive' 'Positive' 'Positive' 'Positive'\n",
      " 'Positive' 'Positive' 'Positive' 'Negative' 'Negative' 'Positive'\n",
      " 'Positive' 'Negative' 'Positive' 'Positive' 'Positive' 'Negative'\n",
      " 'Positive' 'Negative' 'Positive' 'Positive' 'Negative' 'Negative'\n",
      " 'Positive' 'Positive' 'Negative' 'Positive' 'Negative' 'Positive'\n",
      " 'Positive' 'Positive' 'Negative' 'Positive' 'Negative' 'Positive'\n",
      " 'Positive' 'Negative' 'Negative' 'Positive' 'Positive' 'Positive'\n",
      " 'Positive' 'Positive' 'Positive' 'Positive' 'Positive' 'Positive'\n",
      " 'Negative']\n"
     ]
    }
   ],
   "source": [
    "\n",
    "\n",
    "#80% to the trainig test and 20% to the testing test\n",
    "#x_train, x_test, y_train, y_test = train_test_split(tfidf,twitter_df['sentiment'], test_size=0.20)\n",
    "\n",
    "x_train, x_test, y_train, y_test = train_test_split(x,y, test_size=0.20)\n",
    "\n",
    "#Exact y\n",
    "expected_output = y_test\n",
    "\n",
    "print(expected_output)"
   ]
  },
  {
   "cell_type": "code",
   "execution_count": 24,
   "metadata": {},
   "outputs": [],
   "source": [
    "#Import Gaussian Naive Bayes model\n",
    "\n",
    "\n",
    "#Create a Gaussian Classifier\n",
    "#gnb = GaussianNB()\n",
    "\n",
    "#Train the model using the training sets\n",
    "#gnb.fit(x_train, y_train)\n",
    "\n",
    "#Predict the response for test dataset\n",
    "#y_pred = gnb.predict(x_test)"
   ]
  },
  {
   "cell_type": "code",
   "execution_count": 25,
   "metadata": {},
   "outputs": [],
   "source": [
    "#Import scikit-learn metrics module for accuracy calculation\n",
    "\n",
    "\n",
    "# Model Accuracy, how often is the classifier correct?\n",
    "#print(\"Accuracy:\",metrics.accuracy_score(y_test, y_pred))"
   ]
  },
  {
   "cell_type": "code",
   "execution_count": 26,
   "metadata": {},
   "outputs": [
    {
     "name": "stdout",
     "output_type": "stream",
     "text": [
      "Accuracy of the Naive Bayes model: \n",
      "0.7092651757188498\n",
      "\n",
      "Classification Report\n",
      "              precision    recall  f1-score   support\n",
      "\n",
      "    Negative       0.21      0.82      0.34        28\n",
      "    Positive       0.98      0.70      0.81       285\n",
      "\n",
      "    accuracy                           0.71       313\n",
      "   macro avg       0.59      0.76      0.57       313\n",
      "weighted avg       0.91      0.71      0.77       313\n",
      "\n",
      "\n",
      "Confusion Matrix\n",
      "[[ 23   5]\n",
      " [ 86 199]]\n"
     ]
    }
   ],
   "source": [
    "\n",
    "#Creating Naive Bayes Model\n",
    "NV_model = MultinomialNB()\n",
    "\n",
    "#Train the model using the training sets\n",
    "NV_model.fit(x_train, y_train)\n",
    "\n",
    "#Predict the response for test dataset\n",
    "test_prediction = NV_model.predict(x_test)\n",
    "\n",
    "print('Accuracy of the Naive Bayes model: ')\n",
    "print(NV_model.score(x_test,y_test))\n",
    "\n",
    "\n",
    "print('\\nClassification Report')\n",
    "print(classification_report(test_prediction, expected_output))\n",
    "\n",
    "print('\\nConfusion Matrix')\n",
    "print(confusion_matrix(test_prediction, expected_output))"
   ]
  },
  {
   "cell_type": "code",
   "execution_count": 27,
   "metadata": {},
   "outputs": [
    {
     "name": "stdout",
     "output_type": "stream",
     "text": [
      "Accuracy of the model:  0.6869009584664537\n",
      "\n",
      "Confusion Matrix:  [[ 25  14]\n",
      " [ 84 190]]\n",
      "\n",
      "Report:                precision    recall  f1-score   support\n",
      "\n",
      "    Negative       0.23      0.64      0.34        39\n",
      "    Positive       0.93      0.69      0.79       274\n",
      "\n",
      "    accuracy                           0.69       313\n",
      "   macro avg       0.58      0.67      0.57       313\n",
      "weighted avg       0.84      0.69      0.74       313\n",
      "\n"
     ]
    }
   ],
   "source": [
    "from sklearn.neighbors import KNeighborsClassifier\n",
    "#Building K-NN model \n",
    "\n",
    "#Creating K-NN model and set initial neighbors to 5\n",
    "#After running several times with random k value we found that the 13 is most accurate\n",
    "model = KNeighborsClassifier(n_neighbors=13)\n",
    "\n",
    "#fit the data into model train\n",
    "model.fit(x_train, y_train)\n",
    "\n",
    "knn_predicted_output = model.predict(x_test)\n",
    "\n",
    "print('Accuracy of the model: ',model.score(x_test,y_test))\n",
    "print('\\nConfusion Matrix: ',confusion_matrix(knn_predicted_output,y_test))\n",
    "print('\\nReport: ', classification_report(knn_predicted_output,y_test))"
   ]
  },
  {
   "cell_type": "code",
   "execution_count": 28,
   "metadata": {},
   "outputs": [],
   "source": [
    "#17.\tBuild SVM model using Train Data\n",
    "\n",
    "#from sklearn.svm import SVC\n",
    "\n",
    "\n",
    "\n",
    "\n",
    "\n",
    "\n"
   ]
  },
  {
   "cell_type": "code",
   "execution_count": 29,
   "metadata": {},
   "outputs": [],
   "source": [
    "#svclassifier = SVC(kernel='linear')\n",
    "svmodel = SVC(kernel = 'rbf', gamma = 'scale', C = 1)\n",
    "\n",
    "svmodel.fit(x_train, y_train)\n",
    "\n",
    "#Predict the model using test dataset \n",
    "svm_predicted_output = svmodel.predict(x_test)\n",
    "\n"
   ]
  },
  {
   "cell_type": "code",
   "execution_count": 30,
   "metadata": {},
   "outputs": [
    {
     "name": "stdout",
     "output_type": "stream",
     "text": [
      "Accuracy of the model:  0.7156549520766773\n",
      "\n",
      "Confusion Matrix:  [[ 26   6]\n",
      " [ 83 198]]\n",
      "\n",
      "Report:                precision    recall  f1-score   support\n",
      "\n",
      "    Negative       0.24      0.81      0.37        32\n",
      "    Positive       0.97      0.70      0.82       281\n",
      "\n",
      "    accuracy                           0.72       313\n",
      "   macro avg       0.60      0.76      0.59       313\n",
      "weighted avg       0.90      0.72      0.77       313\n",
      "\n"
     ]
    }
   ],
   "source": [
    "print('Accuracy of the model: ',svmodel.score(x_test, expected_output))\n",
    "print('\\nConfusion Matrix: ',confusion_matrix(svm_predicted_output, expected_output))\n",
    "print('\\nReport: ', classification_report(svm_predicted_output, expected_output))"
   ]
  },
  {
   "cell_type": "code",
   "execution_count": null,
   "metadata": {},
   "outputs": [],
   "source": []
  }
 ],
 "metadata": {
  "kernelspec": {
   "display_name": "Python 3",
   "language": "python",
   "name": "python3"
  },
  "language_info": {
   "codemirror_mode": {
    "name": "ipython",
    "version": 3
   },
   "file_extension": ".py",
   "mimetype": "text/x-python",
   "name": "python",
   "nbconvert_exporter": "python",
   "pygments_lexer": "ipython3",
   "version": "3.8.3"
  }
 },
 "nbformat": 4,
 "nbformat_minor": 4
}
